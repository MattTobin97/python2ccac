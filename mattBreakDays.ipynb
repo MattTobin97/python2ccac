{
 "cells": [
  {
   "cell_type": "code",
   "execution_count": 3,
   "metadata": {},
   "outputs": [],
   "source": []
  },
  {
   "cell_type": "code",
   "execution_count": 43,
   "metadata": {},
   "outputs": [
    {
     "name": "stdout",
     "output_type": "stream",
     "text": [
      "alkfjaflkj]\n",
      "day not found\n"
     ]
    }
   ],
   "source": [
    "def accessMattsWeek(day):\n",
    "    '''Return the acivities Matt did over break by inputting day of the week'''\n",
    "    mattsWeek = {\n",
    "    'monday':'Work',\n",
    "    'tuesday':'Work',\n",
    "    'wednesday':'Work',\n",
    "    'thursday':'Work',\n",
    "    'friday':'Ate dinner at Piada',\n",
    "    'saturday':'Drove to Elizabeth for Easter with grandparents',\n",
    "    'sunday':'Drove to Cranberry for Easter brunch, then Penn Hills for Easter dinner',\n",
    "}\n",
    "    if day in mattsWeek:\n",
    "        return mattsWeek[day]\n",
    "    else:\n",
    "        return \"day not found\"\n",
    "    \n",
    "whatday = input('')\n",
    "print(accessMattsWeek(whatday.lower()))"
   ]
  }
 ],
 "metadata": {
  "kernelspec": {
   "display_name": "Python 3",
   "language": "python",
   "name": "python3"
  },
  "language_info": {
   "codemirror_mode": {
    "name": "ipython",
    "version": 3
   },
   "file_extension": ".py",
   "mimetype": "text/x-python",
   "name": "python",
   "nbconvert_exporter": "python",
   "pygments_lexer": "ipython3",
   "version": "3.6.3"
  }
 },
 "nbformat": 4,
 "nbformat_minor": 2
}
